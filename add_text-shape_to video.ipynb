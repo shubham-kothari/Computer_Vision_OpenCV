{
 "cells": [
  {
   "cell_type": "code",
   "execution_count": 15,
   "metadata": {},
   "outputs": [],
   "source": [
    "import cv2\n",
    "import numpy as np\n",
    "import datetime"
   ]
  },
  {
   "cell_type": "code",
   "execution_count": 37,
   "metadata": {},
   "outputs": [
    {
     "name": "stdout",
     "output_type": "stream",
     "text": [
      "640.0\n",
      "480.0\n"
     ]
    }
   ],
   "source": [
    "cap = cv2.VideoCapture(0)\n",
    "\n",
    "print(cap.get(cv2.CAP_PROP_FRAME_WIDTH))\n",
    "print(cap.get(cv2.CAP_PROP_FRAME_HEIGHT))\n",
    "\n",
    "#cap.set(3,3000)\n",
    "#cap.set(4,3000)\n",
    "    \n",
    "#print(cap.get(3))\n",
    "#print(cap.get(4))\n",
    "\n",
    "while(cap.isOpened()):\n",
    "    # Capture frame-by-frame\n",
    "    ret, frame = cap.read()\n",
    "    \n",
    "    if ret == True:\n",
    "        \n",
    "        #line    \n",
    "        #img = cv2.line(img = img, pt1 = (0,0), pt2=(455,455), color = (0,255,0), thickness = 5)   #color = (b,g,r) (255,0,0) Blue \n",
    "\n",
    "        #arrowedLine\n",
    "        #img = cv2.arrowedLine(img = img, pt1 = (0,460), pt2=(460,460), color = (255,0,0), thickness = 5)   \n",
    "\n",
    "        #rectangle\n",
    "        #img = cv2.rectangle(img = img, pt1 = (470,470), pt2=(596,596), color = (0,0,255), thickness = 10) \n",
    "\n",
    "        #circle\n",
    "        #img = cv2.circle(img = img, center = (533,533), radius=63 , color = (200,155,200), thickness = -1) \n",
    "\n",
    "\n",
    "        #putting some text on image\n",
    "        \n",
    "        font = cv2.FONT_HERSHEY_SIMPLEX\n",
    "        text = 'Width:' + str(int(cap.get(3))) + '  Height:' + str(int(cap.get(4)))\n",
    "        \n",
    "        \n",
    "        img = cv2.putText(img=frame, text = text, org = (10,50),\n",
    "                          fontFace = font, fontScale= 1, color = (0,255,255),\n",
    "                         thickness= 2, lineType = cv2.LINE_AA)\n",
    "        \n",
    "        \n",
    "        datet = str(datetime.datetime.now())\n",
    "        img = cv2.putText(img=frame, text = datet, org = (488,475),\n",
    "                          fontFace = font, fontScale= 0.4, color = (0,255,255),\n",
    "                         thickness= 1, lineType = cv2.LINE_AA)\n",
    "        \n",
    "\n",
    "\n",
    "       \n",
    "        cv2.imshow('frame',frame)\n",
    "        \n",
    "        \n",
    "        \n",
    "        if cv2.waitKey(1) & 0xFF == ord('q'):\n",
    "            break\n",
    "\n",
    "# When everything done, release the capture\n",
    "cap.release()\n",
    "cv2.destroyAllWindows()\n"
   ]
  },
  {
   "cell_type": "code",
   "execution_count": null,
   "metadata": {},
   "outputs": [],
   "source": []
  },
  {
   "cell_type": "code",
   "execution_count": null,
   "metadata": {},
   "outputs": [],
   "source": []
  }
 ],
 "metadata": {
  "kernelspec": {
   "display_name": "Python 3",
   "language": "python",
   "name": "python3"
  },
  "language_info": {
   "codemirror_mode": {
    "name": "ipython",
    "version": 3
   },
   "file_extension": ".py",
   "mimetype": "text/x-python",
   "name": "python",
   "nbconvert_exporter": "python",
   "pygments_lexer": "ipython3",
   "version": "3.6.8"
  }
 },
 "nbformat": 4,
 "nbformat_minor": 2
}

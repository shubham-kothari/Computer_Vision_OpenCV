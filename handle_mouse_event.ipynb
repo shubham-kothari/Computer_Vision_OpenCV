{
 "cells": [
  {
   "cell_type": "code",
   "execution_count": 1,
   "metadata": {},
   "outputs": [],
   "source": [
    "import numpy as np\n",
    "import cv2\n",
    "import datetime"
   ]
  },
  {
   "cell_type": "markdown",
   "metadata": {},
   "source": [
    "###### Events in OpenCV"
   ]
  },
  {
   "cell_type": "code",
   "execution_count": 5,
   "metadata": {},
   "outputs": [],
   "source": [
    "events = [i for i in dir(cv2) if 'EVENT' in i]\n",
    "events"
   ]
  },
  {
   "cell_type": "code",
   "execution_count": 15,
   "metadata": {},
   "outputs": [
    {
     "name": "stdout",
     "output_type": "stream",
     "text": [
      "202 ,  303\n",
      "171 ,  198\n"
     ]
    }
   ],
   "source": [
    "#creating mouse callback function\n",
    "\n",
    "def click_event(event, x, y, flags, param):\n",
    "    if event == cv2.EVENT_LBUTTONDOWN:\n",
    "        print(x,', ',y)\n",
    "        \n",
    "        font = cv2.FONT_HERSHEY_SIMPLEX\n",
    "        strXY = str(x) + ', ' + str(y)\n",
    "        \n",
    "        cv2.putText(img=img, text = strXY, org = (x,y),\n",
    "                          fontFace = font, fontScale= 0.5, color = (255,255,0),\n",
    "                         thickness= 2, lineType = cv2.LINE_AA)\n",
    "        \n",
    "        cv2.imshow('image',img)\n",
    "        \n",
    "        \n",
    "    if event == cv2.EVENT_RBUTTONDOWN:\n",
    "        blue = img[y,x,0]\n",
    "        green = img[y,x,1]\n",
    "        red = img[y,x,2]\n",
    "        \n",
    "        font = cv2.FONT_HERSHEY_SIMPLEX\n",
    "        strXY = str(blue) + ', ' + str(green) + ', ' + str(red)\n",
    "        \n",
    "        cv2.putText(img=img, text = strXY, org = (x,y),\n",
    "                          fontFace = font, fontScale= 0.5, color = (0,255,255),\n",
    "                         thickness= 2, lineType = cv2.LINE_AA)\n",
    "        \n",
    "        cv2.imshow('image',img)\n",
    "        \n",
    "       \n",
    "    \n",
    "#img = np.zeros((512,512,3),np.uint8)  \n",
    "img= cv2.imread('0.png',1)\n",
    "\n",
    "cv2.imshow('image',img)\n",
    "\n",
    "cv2.setMouseCallback('image', click_event)\n",
    "\n",
    "cv2.waitKey(0)\n",
    "cv2.destroyAllWindows()\n"
   ]
  },
  {
   "cell_type": "code",
   "execution_count": 2,
   "metadata": {},
   "outputs": [
    {
     "name": "stdout",
     "output_type": "stream",
     "text": [
      "364 ,  207\n"
     ]
    }
   ],
   "source": [
    "cap = cv2.VideoCapture(0)\n",
    "\n",
    "\n",
    "def click_event(event, x, y, flags, param):\n",
    "    if event == cv2.EVENT_LBUTTONDOWN:\n",
    "        print(x,', ',y)\n",
    "        \n",
    "        font = cv2.FONT_HERSHEY_SIMPLEX\n",
    "        strXY = str(x) + ', ' + str(y)\n",
    "        \n",
    "        cv2.putText(img=img, text = strXY, org = (x,y),\n",
    "                          fontFace = font, fontScale= 0.5, color = (255,255,0),\n",
    "                         thickness= 2, lineType = cv2.LINE_AA)\n",
    "        \n",
    "        cv2.imshow('image',img)\n",
    "        \n",
    "        \n",
    "    if event == cv2.EVENT_RBUTTONDOWN:\n",
    "        blue = img[y,x,0]\n",
    "        green = img[y,x,1]\n",
    "        red = img[y,x,2]\n",
    "        \n",
    "        font = cv2.FONT_HERSHEY_SIMPLEX\n",
    "        strXY = str(blue) + ', ' + str(green) + ', ' + str(red)\n",
    "        \n",
    "        cv2.putText(img=img, text = strXY, org = (x,y),\n",
    "                          fontFace = font, fontScale= 0.5, color = (0,255,255),\n",
    "                         thickness= 2, lineType = cv2.LINE_AA)\n",
    "        \n",
    "        cv2.imshow('image',img)\n",
    "        \n",
    "\n",
    "while(cap.isOpened()):\n",
    "    # Capture frame-by-frame\n",
    "    ret, frame = cap.read()\n",
    "    \n",
    "    if ret == True:\n",
    "        \n",
    "        #putting some text on image\n",
    "        \n",
    "        font = cv2.FONT_HERSHEY_SIMPLEX\n",
    "        text = 'Width:' + str(int(cap.get(3))) + '  Height:' + str(int(cap.get(4)))\n",
    "        \n",
    "        \n",
    "        img = cv2.putText(img=frame, text = text, org = (10,50),\n",
    "                          fontFace = font, fontScale= 1, color = (0,255,255),\n",
    "                         thickness= 2, lineType = cv2.LINE_AA)\n",
    "        \n",
    "        \n",
    "        datet = str(datetime.datetime.now())\n",
    "        img = cv2.putText(img=frame, text = datet, org = (488,475),\n",
    "                          fontFace = font, fontScale= 0.4, color = (0,255,255),\n",
    "                         thickness= 1, lineType = cv2.LINE_AA)\n",
    "        \n",
    "       \n",
    "        cv2.imshow('image',img)\n",
    "        \n",
    "        cv2.setMouseCallback('image', click_event)\n",
    "        if cv2.waitKey(1) & 0xFF == ord('q'):\n",
    "            break\n",
    "\n",
    "            \n",
    "            \n"
   ]
  },
  {
   "cell_type": "code",
   "execution_count": null,
   "metadata": {},
   "outputs": [],
   "source": []
  }
 ],
 "metadata": {
  "kernelspec": {
   "display_name": "Python 3",
   "language": "python",
   "name": "python3"
  },
  "language_info": {
   "codemirror_mode": {
    "name": "ipython",
    "version": 3
   },
   "file_extension": ".py",
   "mimetype": "text/x-python",
   "name": "python",
   "nbconvert_exporter": "python",
   "pygments_lexer": "ipython3",
   "version": "3.6.8"
  }
 },
 "nbformat": 4,
 "nbformat_minor": 2
}

{
 "cells": [
  {
   "cell_type": "code",
   "execution_count": 39,
   "metadata": {},
   "outputs": [],
   "source": [
    "import cv2\n",
    "import numpy as np"
   ]
  },
  {
   "cell_type": "code",
   "execution_count": 41,
   "metadata": {},
   "outputs": [],
   "source": [
    "img = cv2.imread(\"0.png\",1)\n",
    " \n",
    "#line    \n",
    "img = cv2.line(img = img, pt1 = (0,0), pt2=(455,455), color = (0,255,0), thickness = 5)   #color = (b,g,r) (255,0,0) Blue \n",
    "\n",
    "#arrowedLine\n",
    "img = cv2.arrowedLine(img = img, pt1 = (0,460), pt2=(460,460), color = (255,0,0), thickness = 5)   \n",
    "\n",
    "#rectangle\n",
    "img = cv2.rectangle(img = img, pt1 = (470,470), pt2=(596,596), color = (0,0,255), thickness = 10) \n",
    "\n",
    "#circle\n",
    "img = cv2.circle(img = img, center = (533,533), radius=63 , color = (200,155,200), thickness = -1) \n",
    "\n",
    "\n",
    "#putting some text on image\n",
    "img = cv2.putText(img=img, text = 'shubham', org = (500,100),\n",
    "                  fontFace = cv2.FONT_HERSHEY_SIMPLEX, fontScale= 4, color = (0,255,255),\n",
    "                 thickness= 10, lineType = cv2.LINE_AA)\n",
    "\n",
    "\n",
    "cv2.imshow('Image',img)\n",
    "k = cv2.waitKey(0)\n",
    "\n",
    "if k == ord('q'):\n",
    "    cv2.destroyAllWindows()\n",
    "elif k == ord('s'):\n",
    "    cv2.imwrite('saved.png',img)\n",
    "    cv2.destroyAllWindows()\n",
    "    \n"
   ]
  },
  {
   "cell_type": "code",
   "execution_count": 53,
   "metadata": {},
   "outputs": [],
   "source": [
    "img = np.zeros([512,512,3], dtype=np.uint8)\n",
    " \n",
    "#line    \n",
    "img = cv2.line(img = img, pt1 = (0,0), pt2=(512,512), color = (0,255,0), thickness = 5)   #color = (b,g,r) (255,0,0) Blue \n",
    "\n",
    "#arrowedLine\n",
    "img = cv2.arrowedLine(img = img, pt1 = (0,512), pt2=(512,512), color = (255,0,0), thickness = 5)   \n",
    "\n",
    "#rectangle\n",
    "img = cv2.rectangle(img = img, pt1 = (458,458), pt2=(512,512), color = (0,0,255), thickness = 2) \n",
    "\n",
    "#circle\n",
    "img = cv2.circle(img = img, center = (256,256), radius=27 , color = (200,155,200), thickness = -1) \n",
    "\n",
    "\n",
    "#putting some text on image\n",
    "img = cv2.putText(img=img, text = 'shubham', org = (200,200),\n",
    "                  fontFace = cv2.FONT_HERSHEY_SIMPLEX, fontScale= 2, color = (0,255,255),\n",
    "                 thickness= 5, lineType = cv2.LINE_AA)\n",
    "\n",
    "\n",
    "cv2.imshow('Image',img)\n",
    "k = cv2.waitKey(0)\n",
    "\n",
    "if k == ord('q'):\n",
    "    cv2.destroyAllWindows()\n",
    "elif k == ord('s'):\n",
    "    cv2.imwrite('saved.png',img)\n",
    "    cv2.destroyAllWindows()\n",
    "    \n"
   ]
  },
  {
   "cell_type": "code",
   "execution_count": null,
   "metadata": {},
   "outputs": [],
   "source": []
  }
 ],
 "metadata": {
  "kernelspec": {
   "display_name": "Python 3",
   "language": "python",
   "name": "python3"
  },
  "language_info": {
   "codemirror_mode": {
    "name": "ipython",
    "version": 3
   },
   "file_extension": ".py",
   "mimetype": "text/x-python",
   "name": "python",
   "nbconvert_exporter": "python",
   "pygments_lexer": "ipython3",
   "version": "3.6.8"
  }
 },
 "nbformat": 4,
 "nbformat_minor": 2
}
